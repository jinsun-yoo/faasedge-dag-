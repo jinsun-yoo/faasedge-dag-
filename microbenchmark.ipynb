{
 "cells": [
  {
   "cell_type": "code",
   "execution_count": 18,
   "metadata": {},
   "outputs": [],
   "source": [
    "import csv\n",
    "import tqdm\n",
    "import json"
   ]
  },
  {
   "cell_type": "code",
   "execution_count": 4,
   "metadata": {},
   "outputs": [
    {
     "data": {
      "text/plain": [
       "'\\n1. parse cell-towers\\n2. parse sf-cabs\\n3. requirements.txt file\\n'"
      ]
     },
     "execution_count": 4,
     "metadata": {},
     "output_type": "execute_result"
    }
   ],
   "source": [
    "### TODOS\n",
    "\n",
    "\"\"\"\n",
    "1. parse cell-towers – done\n",
    "2. parse sf-cabs – \n",
    "3. requirements.txt file\n",
    "4. environment.yml file\n",
    "\"\"\""
   ]
  },
  {
   "cell_type": "code",
   "execution_count": 33,
   "metadata": {},
   "outputs": [],
   "source": [
    "import csv\n",
    "def parse_edge_nodes(file_path):\n",
    "    with open(file_path, 'r') as f:\n",
    "        reader = csv.reader(f, delimiter=',')\n",
    "        rows = [row for row in reader]\n",
    "        keys = rows[0]\n",
    "        values = [list(map(float, v[:2])) + v[2:] for v in rows[1:]]\n",
    "        return [ dict(zip(keys, v)) for v in values]"
   ]
  },
  {
   "cell_type": "code",
   "execution_count": 34,
   "metadata": {},
   "outputs": [
    {
     "name": "stdout",
     "output_type": "stream",
     "text": [
      "number of edge nodes:  20\n",
      "node_0: \n",
      "{\n",
      "    \"x\": -122.41524956862746,\n",
      "    \"y\": 37.793800137254905,\n",
      "    \"id\": \"node_0\",\n",
      "    \"ip\": \"192.168.160.22\",\n",
      "    \"model\": \"../../models/model1.csv\"\n",
      "}\n"
     ]
    }
   ],
   "source": [
    "cell_towers_file = \"20nodes_sf_cell_towers.csv\"\n",
    "edge_nodes = parse_edge_nodes(cell_towers_file)\n",
    "\n",
    "print('number of edge nodes: ', len(edge_nodes))\n",
    "print('node_0: ')\n",
    "print(json.dumps(edge_nodes[0], indent=4))"
   ]
  },
  {
   "cell_type": "code",
   "execution_count": 30,
   "metadata": {},
   "outputs": [
    {
     "data": {
      "text/plain": [
       "\"\\n- link: https://ieee-dataport.org/open-access/crawdad-epflmobility\\n- n = ~500 taxis, t = 30 days\\n- update interval average time < 10 s\\n\\n- configuration: This archive contains file '_cabs.txt' with the list of all cabs and for each cab its mobility trace in a separate ASCII file, e.g. 'new_abboip.txt'.\\nformat: The format of each mobility trace file is the following - each line contains [latitude, longitude, occupancy, time], e.g.: [37.75134 -122.39488 0 1213084687], where latitude and longitude are in decimal degrees, occupancy shows if a cab has a fare (1 = occupied, 0 = free) and time is in UNIX epoch format.\\n\\n\""
      ]
     },
     "execution_count": 30,
     "metadata": {},
     "output_type": "execute_result"
    }
   ],
   "source": [
    "# San Francisco Cabs\n",
    "\n",
    "\"\"\"\n",
    "- link: https://ieee-dataport.org/open-access/crawdad-epflmobility\n",
    "- n = ~500 taxis, t = 30 days\n",
    "- update interval average time < 10 s\n",
    "\n",
    "- configuration: This archive contains file '_cabs.txt' with the list of all cabs and for each cab its mobility trace in a separate ASCII file, e.g. 'new_abboip.txt'.\n",
    "format: The format of each mobility trace file is the following - each line contains [latitude, longitude, occupancy, time], e.g.: [37.75134 -122.39488 0 1213084687], where latitude and longitude are in decimal degrees, occupancy shows if a cab has a fare (1 = occupied, 0 = free) and time is in UNIX epoch format.\n",
    "\n",
    "\"\"\"\n",
    "\n"
   ]
  },
  {
   "cell_type": "code",
   "execution_count": null,
   "metadata": {},
   "outputs": [],
   "source": [
    "def parse_sf_cabs(dir):\n",
    "    "
   ]
  },
  {
   "cell_type": "code",
   "execution_count": null,
   "metadata": {},
   "outputs": [],
   "source": []
  }
 ],
 "metadata": {
  "kernelspec": {
   "display_name": "dag_fe",
   "language": "python",
   "name": "python3"
  },
  "language_info": {
   "codemirror_mode": {
    "name": "ipython",
    "version": 3
   },
   "file_extension": ".py",
   "mimetype": "text/x-python",
   "name": "python",
   "nbconvert_exporter": "python",
   "pygments_lexer": "ipython3",
   "version": "3.9.18"
  }
 },
 "nbformat": 4,
 "nbformat_minor": 2
}
